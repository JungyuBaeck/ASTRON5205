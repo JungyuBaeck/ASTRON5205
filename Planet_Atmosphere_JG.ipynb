{
  "nbformat": 4,
  "nbformat_minor": 0,
  "metadata": {
    "colab": {
      "provenance": [],
      "authorship_tag": "ABX9TyPLPLlrk0KcnaWt4oW363TQ",
      "include_colab_link": true
    },
    "kernelspec": {
      "name": "python3",
      "display_name": "Python 3"
    },
    "language_info": {
      "name": "python"
    }
  },
  "cells": [
    {
      "cell_type": "markdown",
      "metadata": {
        "id": "view-in-github",
        "colab_type": "text"
      },
      "source": [
        "<a href=\"https://colab.research.google.com/github/JungyuBaeck/ASTRON5205/blob/main/Planet_Atmosphere_JG.ipynb\" target=\"_parent\"><img src=\"https://colab.research.google.com/assets/colab-badge.svg\" alt=\"Open In Colab\"/></a>"
      ]
    },
    {
      "cell_type": "code",
      "execution_count": null,
      "metadata": {
        "id": "26JkJrNjQSJa"
      },
      "outputs": [],
      "source": [
        "import astropy.units as u\n",
        "import astropy.constants as ac\n",
        "import numpy as np\n",
        "import matplotlib.pyplot as plt"
      ]
    },
    {
      "cell_type": "markdown",
      "source": [],
      "metadata": {
        "id": "QIldMG4MQwAr"
      }
    },
    {
      "cell_type": "markdown",
      "source": [
        "dp/dr =-Pg\n"
      ],
      "metadata": {
        "id": "J22AnLP_RAut"
      }
    },
    {
      "cell_type": "markdown",
      "source": [
        "P=P_0 e^(-r/H_0)"
      ],
      "metadata": {
        "id": "ZUBwZNgFRGmJ"
      }
    },
    {
      "cell_type": "code",
      "source": [
        "mu = 29.0 * ac.m_p\n",
        "g= 9.8 * u.m / u.s**2\n",
        "T_0 = 300 * u.K\n",
        "H = ac.k_B * T_0 / (mu * g)\n",
        "print(\"scale height of Earth atmosphere is \", H.to(u.earthRad))"
      ],
      "metadata": {
        "colab": {
          "base_uri": "https://localhost:8080/"
        },
        "id": "6JkjpNBNQUI0",
        "outputId": "c01eb52f-8d40-4e56-b7e0-58fbe3a113e7"
      },
      "execution_count": null,
      "outputs": [
        {
          "output_type": "stream",
          "name": "stdout",
          "text": [
            "scale height of Earth atmosphere is  0.0013661278806872388 earthRad\n"
          ]
        }
      ]
    },
    {
      "cell_type": "code",
      "source": [
        "print(1 / np.e)"
      ],
      "metadata": {
        "colab": {
          "base_uri": "https://localhost:8080/"
        },
        "id": "TrBXIKyoRwhQ",
        "outputId": "80afd5f8-536f-431a-bd5b-58cde26e03e2"
      },
      "execution_count": null,
      "outputs": [
        {
          "output_type": "stream",
          "name": "stdout",
          "text": [
            "0.36787944117144233\n"
          ]
        }
      ]
    },
    {
      "cell_type": "code",
      "source": [
        "lapse_rate = mu * g  / ac.k_B\n",
        "print(\"Temperature change in the atmosphere is \", lapse_rate.to(u.K/u.km))"
      ],
      "metadata": {
        "colab": {
          "base_uri": "https://localhost:8080/"
        },
        "id": "8I4T487bSvFD",
        "outputId": "b5eec203-32c8-474d-bece-7755496e4a0a"
      },
      "execution_count": null,
      "outputs": [
        {
          "output_type": "stream",
          "name": "stdout",
          "text": [
            "Temperature change in the atmosphere is  34.43012313141849 K / km\n"
          ]
        }
      ]
    },
    {
      "cell_type": "markdown",
      "source": [
        "**Atmosphere escape** $\\dot{M} = \\frac{L_\\odot R_\\oplus^3}{4G (0.1 AU)^2M_\\oplus}$\n"
      ],
      "metadata": {
        "id": "dxU9P2z8Rejs"
      }
    },
    {
      "cell_type": "code",
      "source": [
        "m_dot = u.solLum * u.earthRad**3 / (4 * ac.G * (0.1 * u.AU)**2 * u.earthMass)\n",
        "print(\"Atmosphere escape is \",m_dot.to(u.earthMass/u.year))"
      ],
      "metadata": {
        "id": "IF6GNTocVe3Z",
        "colab": {
          "base_uri": "https://localhost:8080/"
        },
        "outputId": "124bff5f-087c-4abe-ce27-a306b2616750"
      },
      "execution_count": null,
      "outputs": [
        {
          "output_type": "stream",
          "name": "stdout",
          "text": [
            "Atmosphere escape is  1.4708531549811543e-06 earthMass / yr\n"
          ]
        }
      ]
    },
    {
      "cell_type": "code",
      "source": [
        "rho_atm = 1 * u.kg / u.m**3\n",
        "atm_mass = 4 * np.pi * u.earthRad**2 * H * 1 * rho_atm\n",
        "print(\"Atmosphere mass is \", atm_mass.to(u.earthMass))"
      ],
      "metadata": {
        "colab": {
          "base_uri": "https://localhost:8080/"
        },
        "id": "RbTAjMIgRUkO",
        "outputId": "1136fcce-9ce3-4350-a5ad-0bd072d3e3e7"
      },
      "execution_count": null,
      "outputs": [
        {
          "output_type": "stream",
          "name": "stdout",
          "text": [
            "Atmosphere mass is  7.458357295631288e-07 earthMass\n"
          ]
        }
      ]
    },
    {
      "cell_type": "markdown",
      "source": [
        "wavelength that is capable of driving atmospheric escape $h\\frac{c}{\\lambda} = \\frac{G M_p \\mu}{R_p}$"
      ],
      "metadata": {
        "id": "0KMMep15StJ_"
      }
    },
    {
      "cell_type": "code",
      "source": [
        "mu = 2.3 * ac.m_p\n",
        "E_esc = ac.G * u.earthMass * mu / u.earthRad\n",
        "wav = ac.h * ac.c / E_esc\n",
        "print(\"Wavelength of escape is \", wav.to(u.um))"
      ],
      "metadata": {
        "colab": {
          "base_uri": "https://localhost:8080/"
        },
        "id": "rOp--ocsRkfG",
        "outputId": "0fd6c0dc-2e70-4e71-ad34-e39f0c5e88f4"
      },
      "execution_count": null,
      "outputs": [
        {
          "output_type": "stream",
          "name": "stdout",
          "text": [
            "Wavelength of escape is  0.826237125481894 um\n"
          ]
        }
      ]
    },
    {
      "cell_type": "markdown",
      "source": [
        "The above value is the bare mininum, but in reality, it is the UV and X-ray that drives the atmospheric escape. The UV and X-ray photons only account for 1e-5 of the total solar luminosity when the sun is young, so $\\dot{M} \\sim 10^{-5} M_\\oplus/Myr \\left(\\frac{\\eta}{10^{-5}}\\right)\\left(\\frac{L}{L_\\odot}\\right)\\left(\\frac{a}{0.1\\ AU}\\right)^{-2}\\left(\\frac{M_p}{M_\\oplus}\\right)^{3\\alpha-1}$, where $\\alpha$ is the power of mass-radius relationship."
      ],
      "metadata": {
        "id": "7Pze2Z3GTgQp"
      }
    },
    {
      "cell_type": "code",
      "source": [
        "# For an Earth-sized planet with 1e-3 Earth mass atmosphere\n",
        "atm_frac = 1e-3\n",
        "Mp = 1 * u.earthMass\n",
        "m_dot = 1e-5 * u.earthMass / u.Myr\n",
        "t_loss = atm_frac * Mp / m_dot\n",
        "print(\"Time to loss is \", t_loss.to(u.Myr))"
      ],
      "metadata": {
        "colab": {
          "base_uri": "https://localhost:8080/"
        },
        "id": "1_Zqvc5CS66M",
        "outputId": "4f192bb3-3623-4553-8678-8ad5b4bb3315"
      },
      "execution_count": null,
      "outputs": [
        {
          "output_type": "stream",
          "name": "stdout",
          "text": [
            "Time to loss is  100.0 Myr\n"
          ]
        }
      ]
    },
    {
      "cell_type": "code",
      "source": [
        "# For an Mp = 8 * M_earth planet with 1e-2 Earth mass atmosphere\n",
        "atm_frac = 1e-2\n",
        "Mp = 8 * u.earthMass\n",
        "alpha = 0.3\n",
        "m_dot = 1e-5 * u.earthMass / u.Myr * (Mp / u.earthMass)**(3.0 * alpha - 1.0)\n",
        "t_loss = atm_frac * Mp / m_dot\n",
        "print(\"Time to loss is \", t_loss.to(u.Myr))"
      ],
      "metadata": {
        "colab": {
          "base_uri": "https://localhost:8080/"
        },
        "id": "7eCoGfU-Tjtw",
        "outputId": "b11bb86d-88d0-4fb0-a455-fcaa92d9b769"
      },
      "execution_count": null,
      "outputs": [
        {
          "output_type": "stream",
          "name": "stdout",
          "text": [
            "Time to loss is  9849.15530675933 Myr\n"
          ]
        }
      ]
    },
    {
      "cell_type": "code",
      "source": [
        "# For an Mp = 18 * M_earth planet with 1e-2 Earth mass atmosphere\n",
        "atm_frac = 1e-1\n",
        "Mp = 18 * u.earthMass\n",
        "alpha = 0.6\n",
        "m_dot = 1e-5 * u.earthMass / u.Myr * (Mp / u.earthMass)**(3.0 * alpha - 1.0)\n",
        "t_loss = atm_frac * Mp / m_dot\n",
        "print(\"Time to loss is \", t_loss.to(u.Myr))"
      ],
      "metadata": {
        "colab": {
          "base_uri": "https://localhost:8080/"
        },
        "id": "Hg663sGnWXD_",
        "outputId": "390b54b0-bd6d-47b1-af4a-981f8833f5f7"
      },
      "execution_count": null,
      "outputs": [
        {
          "output_type": "stream",
          "name": "stdout",
          "text": [
            "Time to loss is  17826.024579660043 Myr\n"
          ]
        }
      ]
    },
    {
      "cell_type": "code",
      "source": [
        "# This time scale is long, the the alpha that we are using is for mature planets, changing it to a higher alpha, which is more appropriate for young planets.\n",
        "# For an Mp = 18 * M_earth planet with 1e-2 Earth mass atmosphere\n",
        "atm_frac = 1e-1\n",
        "Mp = 18 * u.earthMass\n",
        "alpha = 1.0\n",
        "m_dot = 1e-5 * u.earthMass / u.Myr * (Mp / u.earthMass)**(3.0 * alpha - 1.0)\n",
        "t_loss = atm_frac * Mp / m_dot\n",
        "print(\"Time to loss is \", t_loss.to(u.Myr))"
      ],
      "metadata": {
        "colab": {
          "base_uri": "https://localhost:8080/"
        },
        "id": "4J7g5gArWXpJ",
        "outputId": "27fe2cff-841c-4be1-9a93-b0e05484be41"
      },
      "execution_count": null,
      "outputs": [
        {
          "output_type": "stream",
          "name": "stdout",
          "text": [
            "Time to loss is  555.5555555555555 Myr\n"
          ]
        }
      ]
    },
    {
      "cell_type": "code",
      "source": [
        "# For an Mp = 40 * M_earth planet with 1e-2 Earth mass atmosphere\n",
        "atm_frac = 1e-1\n",
        "Mp = 40 * u.earthMass\n",
        "alpha = 1.0\n",
        "m_dot = 1e-5 * u.earthMass / u.Myr * (Mp / u.earthMass)**(3.0 * alpha - 1.0)\n",
        "t_loss = atm_frac * Mp / m_dot\n",
        "print(\"Time to loss is \", t_loss.to(u.Myr))\n"
      ],
      "metadata": {
        "colab": {
          "base_uri": "https://localhost:8080/"
        },
        "id": "ylmG3vizWsKu",
        "outputId": "6452b6f9-e367-4528-fbca-23c0cbfe50a6"
      },
      "execution_count": null,
      "outputs": [
        {
          "output_type": "stream",
          "name": "stdout",
          "text": [
            "Time to loss is  250.0 Myr\n"
          ]
        }
      ]
    },
    {
      "cell_type": "code",
      "source": [],
      "metadata": {
        "id": "qWXhsdvuWv2y"
      },
      "execution_count": null,
      "outputs": []
    }
  ]
}