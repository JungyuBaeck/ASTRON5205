{
  "nbformat": 4,
  "nbformat_minor": 0,
  "metadata": {
    "colab": {
      "provenance": [],
      "authorship_tag": "ABX9TyOQ1+EZl7xKSJm7GWsKcZ9J",
      "include_colab_link": true
    },
    "kernelspec": {
      "name": "python3",
      "display_name": "Python 3"
    },
    "language_info": {
      "name": "python"
    }
  },
  "cells": [
    {
      "cell_type": "markdown",
      "metadata": {
        "id": "view-in-github",
        "colab_type": "text"
      },
      "source": [
        "<a href=\"https://colab.research.google.com/github/JungyuBaeck/ASTRON5205/blob/main/week_11_JG.ipynb\" target=\"_parent\"><img src=\"https://colab.research.google.com/assets/colab-badge.svg\" alt=\"Open In Colab\"/></a>"
      ]
    },
    {
      "cell_type": "code",
      "execution_count": 2,
      "metadata": {
        "id": "hfL7QGHIlNbG"
      },
      "outputs": [],
      "source": [
        "import astropy.units as u\n",
        "import astropy.constants as ac\n",
        "import numpy as np\n",
        "import matplotlib.pyplot as plt"
      ]
    },
    {
      "cell_type": "code",
      "source": [
        "rho_m = 4.5 * u.g / u.cm**3\n",
        "rho_c = 10 * u.g / u.cm**3\n",
        "# M_core = 0.3 *u.earthMass\n",
        "# M_mentle = 0.7 * u.earthMass\n",
        "r_in = 0.5 * u.earthRad\n",
        "r_out = 1.0 * u.earthRad\n",
        "term_1 = 4 * np.pi / 3 * r_in**3 * (rho_c - rho_m) * (1 / r_in - 1 / r_out)\n",
        "term_2 = 4 * np.pi / 3 * rho_m / 2 * (r_out**2 - r_in**2)\n",
        "P_CMB = rho_m * ac.G * (term_1 + term_2)\n",
        "print(\"Core mantle boundary pressure [in Giga Pascal] = \", P_CMB.to(1e9 * u.pascal).value)"
      ],
      "metadata": {
        "colab": {
          "base_uri": "https://localhost:8080/"
        },
        "id": "SECXvJuPohqU",
        "outputId": "3fbdea58-17cb-48c3-dfc4-5f5d94fcc014"
      },
      "execution_count": 3,
      "outputs": [
        {
          "output_type": "stream",
          "name": "stdout",
          "text": [
            "Core mantle boundary pressure [in Giga Pascal] =  121.5494810323802\n"
          ]
        }
      ]
    },
    {
      "cell_type": "code",
      "source": [
        "# P = nkT = rho / u * k * T, so T = P / rho * u / k\n",
        "mu = 1 * ac.m_p\n",
        "T_CMB = P_CMB / rho_m * mu / ac.k_B\n",
        "\n",
        "print(\"Core mantle boundary temperature [in Kelvin] = \", T_CMB.to(u.K))"
      ],
      "metadata": {
        "colab": {
          "base_uri": "https://localhost:8080/"
        },
        "id": "c73jVh3vsFiG",
        "outputId": "99eca7c6-deb8-4a43-c239-80d9035e5618"
      },
      "execution_count": 4,
      "outputs": [
        {
          "output_type": "stream",
          "name": "stdout",
          "text": [
            "Core mantle boundary temperature [in Kelvin] =  3272.3149569980965 K\n"
          ]
        }
      ]
    },
    {
      "cell_type": "code",
      "source": [],
      "metadata": {
        "id": "usG9SgMzzPeO"
      },
      "execution_count": null,
      "outputs": []
    },
    {
      "cell_type": "code",
      "source": [
        "term_3 = 4 * np.pi / 3 * rho_c / 2 * r_in**2\n",
        "P_core = P_CMB + rho_c * ac.G * term_3\n",
        "print(\"Core pressure [in Giga Pascal] = \", P_core.to(1e9 * u.pascal).value)"
      ],
      "metadata": {
        "colab": {
          "base_uri": "https://localhost:8080/"
        },
        "id": "7WPgzwXnsFe2",
        "outputId": "06b2fc6e-eeb6-4010-825a-9c32983dc2b8"
      },
      "execution_count": 5,
      "outputs": [
        {
          "output_type": "stream",
          "name": "stdout",
          "text": [
            "Core pressure [in Giga Pascal] =  263.7126167427664\n"
          ]
        }
      ]
    },
    {
      "cell_type": "code",
      "source": [
        "mu = 1 * ac.m_p\n",
        "T_core = P_core / rho_c * mu / ac.k_B\n",
        "\n",
        "print(\"Core temperature [in Kelvin] = \", T_core.to(u.K))"
      ],
      "metadata": {
        "colab": {
          "base_uri": "https://localhost:8080/"
        },
        "id": "FbrvyGqpsFKz",
        "outputId": "9d721fde-ec2f-40cd-fe7f-4ea0e3947b3b"
      },
      "execution_count": 7,
      "outputs": [
        {
          "output_type": "stream",
          "name": "stdout",
          "text": [
            "Core temperature [in Kelvin] =  3194.8127606481416 K\n"
          ]
        }
      ]
    },
    {
      "cell_type": "code",
      "source": [
        "gamma = 2.0\n",
        "T_core = ((P_CMB**(1-gamma) * T_CMB**gamma) / (P_core**(1-gamma)))**(1/gamma)\n",
        "print(\"Core temperature [in Kelvin] = \", T_core.to(u.K))"
      ],
      "metadata": {
        "colab": {
          "base_uri": "https://localhost:8080/"
        },
        "id": "xNqJrkAvzRbY",
        "outputId": "ab1094f6-0adc-4099-a706-e55f23ead29f"
      },
      "execution_count": 11,
      "outputs": [
        {
          "output_type": "stream",
          "name": "stdout",
          "text": [
            "Core temperature [in Kelvin] =  5142.393986980519 K\n"
          ]
        }
      ]
    },
    {
      "cell_type": "code",
      "source": [],
      "metadata": {
        "id": "r8F3L3BOz7eF"
      },
      "execution_count": null,
      "outputs": []
    }
  ]
}